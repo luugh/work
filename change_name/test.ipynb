{
 "cells": [
  {
   "cell_type": "code",
   "execution_count": null,
   "metadata": {
    "collapsed": true
   },
   "outputs": [
    {
     "name": "stdout",
     "output_type": "stream",
     "text": [
      "2\n",
      "3\n",
      "4\n",
      "5\n",
      "6\n",
      "7\n",
      "8\n",
      "9\n"
     ]
    },
    {
     "name": "stderr",
     "output_type": "stream",
     "text": [
      "<ipython-input-3-7579d1e2221b>:9: RuntimeWarning: coroutine 'sleep1' was never awaited\n",
      "  sleep1(i)\n",
      "RuntimeWarning: Enable tracemalloc to get the object allocation traceback\n"
     ]
    },
    {
     "ename": "SyntaxError",
     "evalue": "cannot assign to await expression (<ipython-input-8-481301510bf1>, line 9)",
     "output_type": "error",
     "traceback": [
      "\u001B[1;36m  File \u001B[1;32m\"<ipython-input-8-481301510bf1>\"\u001B[1;36m, line \u001B[1;32m9\u001B[0m\n\u001B[1;33m    await task = asyncio.create_task(sleep1(i))\u001B[0m\n\u001B[1;37m    ^\u001B[0m\n\u001B[1;31mSyntaxError\u001B[0m\u001B[1;31m:\u001B[0m cannot assign to await expression\n"
     ]
    }
   ],
   "source": [
    "import asyncio\n",
    "import time\n",
    "\n",
    "async def sleep1(s):\n",
    "    print(s)\n",
    "    time.sleep(s)\n",
    "if __name__ == \"__main__\":\n",
    "    tasks=[]\n",
    "    for i in range(10):\n",
    "       task = asyncio.create_task(sleep1(i))\n",
    "       tasks.append(task)\n",
    "    await asyncio.gather(tasks)"
   ]
  }
 ],
 "metadata": {
  "kernelspec": {
   "display_name": "Python 3",
   "language": "python",
   "name": "python3"
  },
  "language_info": {
   "codemirror_mode": {
    "name": "ipython",
    "version": 2
   },
   "file_extension": ".py",
   "mimetype": "text/x-python",
   "name": "python",
   "nbconvert_exporter": "python",
   "pygments_lexer": "ipython2",
   "version": "2.7.6"
  }
 },
 "nbformat": 4,
 "nbformat_minor": 0
}